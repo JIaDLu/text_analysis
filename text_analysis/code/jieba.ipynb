{
 "cells": [
  {
   "cell_type": "code",
   "execution_count": 1,
   "id": "565c6f31-aa31-45b6-8d5d-07622e5426f2",
   "metadata": {},
   "outputs": [],
   "source": [
    "import jieba"
   ]
  },
  {
   "cell_type": "code",
   "execution_count": 10,
   "id": "39b6e1dd-bc8d-4eab-85de-3bfad438425e",
   "metadata": {},
   "outputs": [],
   "source": [
    "text = \"中华民族创造了悠久灿烂的中华文明，为人类作出了卓越贡献。\"\n",
    "\n",
    "words = jieba.cut(text, cut_all=False)"
   ]
  },
  {
   "cell_type": "code",
   "execution_count": 11,
   "id": "dd56ee10-3fa5-49c2-887b-d74da0b07f39",
   "metadata": {},
   "outputs": [
    {
     "name": "stdout",
     "output_type": "stream",
     "text": [
      "中华民族/创造/了/悠久/灿烂/的/中华文明/，/为/人类/作出/了/卓越贡献/。\n"
     ]
    }
   ],
   "source": [
    "print('/'.join(words))"
   ]
  },
  {
   "cell_type": "code",
   "execution_count": null,
   "id": "0171bd59-a9fe-4ff3-aa31-cd88b4c51cfe",
   "metadata": {},
   "outputs": [],
   "source": []
  }
 ],
 "metadata": {
  "kernelspec": {
   "display_name": "Python 3 (ipykernel)",
   "language": "python",
   "name": "python3"
  },
  "language_info": {
   "codemirror_mode": {
    "name": "ipython",
    "version": 3
   },
   "file_extension": ".py",
   "mimetype": "text/x-python",
   "name": "python",
   "nbconvert_exporter": "python",
   "pygments_lexer": "ipython3",
   "version": "3.10.8"
  }
 },
 "nbformat": 4,
 "nbformat_minor": 5
}
