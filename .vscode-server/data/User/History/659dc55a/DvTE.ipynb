{
 "cells": [
  {
   "cell_type": "code",
   "execution_count": null,
   "id": "49e42f1b",
   "metadata": {},
   "outputs": [
    {
     "ename": "",
     "evalue": "",
     "output_type": "error",
     "traceback": [
      "\u001b[1;31mRunning cells with '/usr/bin/python3' requires the ipykernel package.\n",
      "\u001b[1;31mRun the following command to install 'ipykernel' into the Python environment. \n",
      "\u001b[1;31mCommand: '/usr/bin/python3 -m pip install ipykernel -U --user --force-reinstall'"
     ]
    }
   ],
   "source": [
    "import torch"
   ]
  },
  {
   "cell_type": "code",
   "execution_count": 4,
   "id": "133465b5-0568-4eed-911e-d6784e37c34f",
   "metadata": {},
   "outputs": [
    {
     "data": {
      "text/plain": [
       "True"
      ]
     },
     "execution_count": 4,
     "metadata": {},
     "output_type": "execute_result"
    }
   ],
   "source": [
    "torch.cuda.is_available()"
   ]
  },
  {
   "cell_type": "code",
   "execution_count": null,
   "id": "633a6fb2-3761-4a21-bae1-e379e191bc2c",
   "metadata": {},
   "outputs": [],
   "source": [
    "from snownlp import SnowNLP"
   ]
  },
  {
   "cell_type": "code",
   "execution_count": 8,
   "id": "6472abd0-22b1-4758-9393-b0daeaa0c962",
   "metadata": {},
   "outputs": [],
   "source": [
    "s = SnowNLP(u'一顿满意的晚餐')"
   ]
  },
  {
   "cell_type": "code",
   "execution_count": 9,
   "id": "297f2325-f041-4820-8b8d-3992d6fd5332",
   "metadata": {},
   "outputs": [
    {
     "name": "stdout",
     "output_type": "stream",
     "text": [
      "['一', '顿', '满意', '的', '晚餐']\n"
     ]
    }
   ],
   "source": [
    "print(s.words)"
   ]
  },
  {
   "cell_type": "code",
   "execution_count": 11,
   "id": "467ecf37-4f4a-4cb8-8ca4-aca9cb96221e",
   "metadata": {},
   "outputs": [],
   "source": [
    "text = u''' 出品都很不错，已经来过很多次啦，今日点左团购下午茶，布丁烧上边是棉花糖，中层是鸡蛋布丁，底部还是薄的蛋糕底，还有皇牌梳芙厘，水果摆设丰富，绵绵的口感，不会太甜，饮品蜜露西柚冰茶满满的维C，黑加仑枸杞茶也很健康的味道.店里的服务员态度也很好. '''\n",
    "s_t = SnowNLP(text)"
   ]
  },
  {
   "cell_type": "code",
   "execution_count": 12,
   "id": "c7f82288-980a-4118-901f-20789188631b",
   "metadata": {},
   "outputs": [
    {
     "data": {
      "text/plain": [
       "['黑加仑枸杞茶也很健康的味道.店里的服务员态度也很好.', '出品都很不错', '布丁烧上边是棉花糖']"
      ]
     },
     "execution_count": 12,
     "metadata": {},
     "output_type": "execute_result"
    }
   ],
   "source": [
    "s_t.summary(3)"
   ]
  },
  {
   "cell_type": "code",
   "execution_count": 13,
   "id": "4a28689f-ca03-4910-a433-fccff8837c9d",
   "metadata": {},
   "outputs": [
    {
     "data": {
      "text/plain": [
       "['出品都很不错',\n",
       " '已经来过很多次啦',\n",
       " '今日点左团购下午茶',\n",
       " '布丁烧上边是棉花糖',\n",
       " '中层是鸡蛋布丁',\n",
       " '底部还是薄的蛋糕底',\n",
       " '还有皇牌梳芙厘',\n",
       " '水果摆设丰富',\n",
       " '绵绵的口感',\n",
       " '不会太甜',\n",
       " '饮品蜜露西柚冰茶满满的维C',\n",
       " '黑加仑枸杞茶也很健康的味道.店里的服务员态度也很好.']"
      ]
     },
     "execution_count": 13,
     "metadata": {},
     "output_type": "execute_result"
    }
   ],
   "source": [
    "s_t.sentences"
   ]
  },
  {
   "cell_type": "code",
   "execution_count": null,
   "id": "461b6d43-75e2-439a-bd40-86fc4baefe7c",
   "metadata": {},
   "outputs": [],
   "source": []
  }
 ],
 "metadata": {
  "kernelspec": {
   "display_name": "Python 3 (ipykernel)",
   "language": "python",
   "name": "python3"
  },
  "language_info": {
   "codemirror_mode": {
    "name": "ipython",
    "version": 3
   },
   "file_extension": ".py",
   "mimetype": "text/x-python",
   "name": "python",
   "nbconvert_exporter": "python",
   "pygments_lexer": "ipython3",
   "version": "3.6.9"
  }
 },
 "nbformat": 4,
 "nbformat_minor": 5
}
